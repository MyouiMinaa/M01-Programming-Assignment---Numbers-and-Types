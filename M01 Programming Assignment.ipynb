{
 "cells": [
  {
   "cell_type": "code",
   "execution_count": 5,
   "id": "085e88b7-c6f3-47d6-9911-c0709cc53ce0",
   "metadata": {},
   "outputs": [
    {
     "name": "stdout",
     "output_type": "stream",
     "text": [
      "3600 seconds in an hour\n"
     ]
    }
   ],
   "source": [
    "sec_min =60\n",
    "min_hour = 60\n",
    "sec_hour= sec_min * min_hour\n",
    "print(sec_hour,\"seconds in an hour\")\n"
   ]
  },
  {
   "cell_type": "code",
   "execution_count": 7,
   "id": "0b79f893-318f-452e-9699-f83472586f4b",
   "metadata": {},
   "outputs": [
    {
     "name": "stdout",
     "output_type": "stream",
     "text": [
      "3600 seconds in an hour\n"
     ]
    }
   ],
   "source": [
    "sec_min =60\n",
    "min_hour = 60\n",
    "seconds_per_hour = sec_min * min_hour\n",
    "print(seconds_per_hour,\"seconds in an hour\")"
   ]
  },
  {
   "cell_type": "code",
   "execution_count": 9,
   "id": "77d1e4e4-2c80-4693-9d91-9ceceee3b83f",
   "metadata": {},
   "outputs": [
    {
     "name": "stdout",
     "output_type": "stream",
     "text": [
      "86400 seconds in a day\n"
     ]
    }
   ],
   "source": [
    "seconds_per_hour = 3600\n",
    "hour_day= 24\n",
    "sec_day = seconds_per_hour * hour_day\n",
    "print(sec_day,\"seconds in a day\")"
   ]
  },
  {
   "cell_type": "code",
   "execution_count": 11,
   "id": "e4dded34-9ffb-4be5-8987-b51213132e1a",
   "metadata": {},
   "outputs": [
    {
     "name": "stdout",
     "output_type": "stream",
     "text": [
      "86400 seconds in a day\n"
     ]
    }
   ],
   "source": [
    "seconds_per_hour = 3600\n",
    "hour_day= 24\n",
    "seconds_per_day = seconds_per_hour * hour_day\n",
    "print(seconds_per_day,\"seconds in a day\")"
   ]
  },
  {
   "cell_type": "code",
   "execution_count": 17,
   "id": "92e53440-374a-4b04-929f-702093b4026a",
   "metadata": {},
   "outputs": [
    {
     "name": "stdout",
     "output_type": "stream",
     "text": [
      "Dividing seconds in a day by seconds in an hour is 24.0\n"
     ]
    }
   ],
   "source": [
    "seconds_per_day = 86400\n",
    "seconds_per_hour = 3600\n",
    "float_div = seconds_per_day / seconds_per_hour\n",
    "print(\"Dividing seconds in a day by seconds in an hour is\",float_div, \"therefore meaning there are 24 hours in one day.\")"
   ]
  },
  {
   "cell_type": "code",
   "execution_count": 19,
   "id": "4324d388-e00f-4242-aa4d-27697f562f83",
   "metadata": {},
   "outputs": [
    {
     "name": "stdout",
     "output_type": "stream",
     "text": [
      "Dividing seconds in a day by seconds in an hour is 24\n"
     ]
    }
   ],
   "source": [
    "seconds_per_day = 86400\n",
    "seconds_per_hour = 3600\n",
    "int_div = seconds_per_day // seconds_per_hour\n",
    "print(\"Dividing seconds in a day by seconds in an hour is\",int_div,\"therefore meaning there are 24 hours in one day.\")"
   ]
  },
  {
   "cell_type": "code",
   "execution_count": null,
   "id": "bbde0119-aa03-4ef8-9262-77f7e7b41b64",
   "metadata": {},
   "outputs": [],
   "source": []
  }
 ],
 "metadata": {
  "kernelspec": {
   "display_name": "Python 3 (ipykernel)",
   "language": "python",
   "name": "python3"
  },
  "language_info": {
   "codemirror_mode": {
    "name": "ipython",
    "version": 3
   },
   "file_extension": ".py",
   "mimetype": "text/x-python",
   "name": "python",
   "nbconvert_exporter": "python",
   "pygments_lexer": "ipython3",
   "version": "3.11.7"
  }
 },
 "nbformat": 4,
 "nbformat_minor": 5
}
